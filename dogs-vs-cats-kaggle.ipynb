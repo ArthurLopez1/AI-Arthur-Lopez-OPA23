{
 "cells": [
  {
   "cell_type": "code",
   "execution_count": 1,
   "id": "5cec0968",
   "metadata": {
    "_cell_guid": "b1076dfc-b9ad-4769-8c92-a6c4dae69d19",
    "_uuid": "8f2839f25d086af736a60e9eeb907d3b93b6e0e5",
    "execution": {
     "iopub.execute_input": "2024-05-16T11:44:50.113344Z",
     "iopub.status.busy": "2024-05-16T11:44:50.113000Z",
     "iopub.status.idle": "2024-05-16T11:44:50.118440Z",
     "shell.execute_reply": "2024-05-16T11:44:50.117597Z"
    },
    "papermill": {
     "duration": 0.011182,
     "end_time": "2024-05-16T11:44:50.120345",
     "exception": false,
     "start_time": "2024-05-16T11:44:50.109163",
     "status": "completed"
    },
    "tags": []
   },
   "outputs": [],
   "source": [
    "# This Python 3 environment comes with many helpful analytics libraries installed\n",
    "# It is defined by the kaggle/python Docker image: https://github.com/kaggle/docker-python\n",
    "# For example, here's several helpful packages to load\n",
    "\n",
    "# import numpy as np # linear algebra\n",
    "# import pandas as pd # data processing, CSV file I/O (e.g. pd.read_csv)\n",
    "\n",
    "# Input data files are available in the read-only \"../input/\" directory\n",
    "# For example, running this (by clicking run or pressing Shift+Enter) will list all files under the input directory\n",
    "\n",
    "# import os\n",
    "# for dirname, _, filenames in os.walk('/kaggle/input'):\n",
    "   # for filename in filenames:\n",
    "      #  print(os.path.join(dirname, filename))\n",
    "\n",
    "# You can write up to 20GB to the current directory (/kaggle/working/) that gets preserved as output when you create a version using \"Save & Run All\" \n",
    "# You can also write temporary files to /kaggle/temp/, but they won't be saved outside of the current session"
   ]
  },
  {
   "cell_type": "code",
   "execution_count": 2,
   "id": "121d19cd",
   "metadata": {
    "execution": {
     "iopub.execute_input": "2024-05-16T11:44:50.125887Z",
     "iopub.status.busy": "2024-05-16T11:44:50.125569Z",
     "iopub.status.idle": "2024-05-16T11:44:50.136709Z",
     "shell.execute_reply": "2024-05-16T11:44:50.135718Z"
    },
    "papermill": {
     "duration": 0.015972,
     "end_time": "2024-05-16T11:44:50.138703",
     "exception": false,
     "start_time": "2024-05-16T11:44:50.122731",
     "status": "completed"
    },
    "tags": []
   },
   "outputs": [
    {
     "name": "stdout",
     "output_type": "stream",
     "text": [
      "['src', 'lib', 'input', 'working']\n"
     ]
    }
   ],
   "source": [
    "import os\n",
    "print(os.listdir(\"..\"))"
   ]
  },
  {
   "cell_type": "code",
   "execution_count": 3,
   "id": "d69e0270",
   "metadata": {
    "execution": {
     "iopub.execute_input": "2024-05-16T11:44:50.144478Z",
     "iopub.status.busy": "2024-05-16T11:44:50.144194Z",
     "iopub.status.idle": "2024-05-16T11:44:51.092939Z",
     "shell.execute_reply": "2024-05-16T11:44:51.092043Z"
    },
    "papermill": {
     "duration": 0.954349,
     "end_time": "2024-05-16T11:44:51.095252",
     "exception": false,
     "start_time": "2024-05-16T11:44:50.140903",
     "status": "completed"
    },
    "tags": []
   },
   "outputs": [
    {
     "name": "stdout",
     "output_type": "stream",
     "text": [
      "ls: cannot access '.virtual_documents': No such file or directory\r\n"
     ]
    }
   ],
   "source": [
    "#!mv /kaggle/working/Dogs_vs_Cats_Kaggle.ipynb yourrepository/\n",
    "\n",
    "#kaggle/working/Dogs_vs_Cats_Kaggle.ipynb\n",
    "\n",
    "!ls .virtual_documents"
   ]
  },
  {
   "cell_type": "markdown",
   "id": "308825d5",
   "metadata": {
    "papermill": {
     "duration": 0.002088,
     "end_time": "2024-05-16T11:44:51.099804",
     "exception": false,
     "start_time": "2024-05-16T11:44:51.097716",
     "status": "completed"
    },
    "tags": []
   },
   "source": [
    "## Experimenting with Kaggle\n"
   ]
  },
  {
   "cell_type": "markdown",
   "id": "17f2918a",
   "metadata": {
    "papermill": {
     "duration": 0.001981,
     "end_time": "2024-05-16T11:44:51.103948",
     "exception": false,
     "start_time": "2024-05-16T11:44:51.101967",
     "status": "completed"
    },
    "tags": []
   },
   "source": [
    "#### Loading and unzipping training data"
   ]
  }
 ],
 "metadata": {
  "kaggle": {
   "accelerator": "nvidiaTeslaT4",
   "dataSources": [],
   "dockerImageVersionId": 30699,
   "isGpuEnabled": true,
   "isInternetEnabled": true,
   "language": "python",
   "sourceType": "notebook"
  },
  "kernelspec": {
   "display_name": "Python 3",
   "language": "python",
   "name": "python3"
  },
  "language_info": {
   "codemirror_mode": {
    "name": "ipython",
    "version": 3
   },
   "file_extension": ".py",
   "mimetype": "text/x-python",
   "name": "python",
   "nbconvert_exporter": "python",
   "pygments_lexer": "ipython3",
   "version": "3.10.13"
  },
  "papermill": {
   "default_parameters": {},
   "duration": 4.264388,
   "end_time": "2024-05-16T11:44:51.324519",
   "environment_variables": {},
   "exception": null,
   "input_path": "__notebook__.ipynb",
   "output_path": "__notebook__.ipynb",
   "parameters": {},
   "start_time": "2024-05-16T11:44:47.060131",
   "version": "2.5.0"
  }
 },
 "nbformat": 4,
 "nbformat_minor": 5
}
