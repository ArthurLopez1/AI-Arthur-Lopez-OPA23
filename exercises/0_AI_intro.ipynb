{
 "cells": [
  {
   "cell_type": "markdown",
   "metadata": {},
   "source": [
    "### 0. Glossary "
   ]
  },
  {
   "cell_type": "markdown",
   "metadata": {},
   "source": [
    "### supervised learning\n",
    "- A model that learns from labeled data. \n",
    "\n",
    "### unsupervised learning\n",
    "- A model that learns from unlabeled data.\n",
    "\n",
    "### machine learning\t\n",
    "- Subset of AI focused on the development of algorithms that enable computers to learn patterns and make predictions from data without being explicity progammed, thus enabling intelligent behaviour \n",
    "\n",
    "### deep learning\n",
    "- Subset of Machine Learning based on Artificial Neural Networks(ANN) with 3 or more layers of network.\n",
    "\n",
    "### pattern recognition\n",
    "- The process of identifying regularities or patterns in data through the use of algorithms. It involves data samples, identifying similarities or structures within them, and making decisions or classifications based on those patterns.\n",
    "\n",
    "### reinforcement learning\t\n",
    "- Type of ML where the agents learns to make decisions by interacting with its enviroment. It does not rely on labeled data but rather on feedback in the form of rewards and penalties.\n",
    "\n",
    "### data science\n",
    "- The interdiciplinary field that combines programming, domain knowledge, and statistical techniques to extract insights in data\n",
    "\n",
    "### data engineering\n",
    "- A discipline within computer science focused on designing, building, and maintaning systems and infrastructures for the acquisition, storage, and processing of large volumes of data.\n",
    "\n",
    "### computer vision\n",
    "-   \n",
    "algorithm\t\n",
    "bias\t\n",
    "variance\t\n",
    "overfitting\t\n",
    "underfitting\n",
    "gradient descent\t\n",
    "transfer learning\t\n",
    "regression\t\n",
    "classification\t\n",
    "artificial neural networks\t\n",
    "data augmentation\t\n",
    "synthetic data\t\n",
    "regularization\t\n",
    "perceptron\t\n",
    "qualitative data\t\n",
    "quantitative data\t\n",
    "independent variable\t\n",
    "dependent variable\t\n",
    "label"
   ]
  }
 ],
 "metadata": {
  "kernelspec": {
   "display_name": "venv",
   "language": "python",
   "name": "python3"
  },
  "language_info": {
   "codemirror_mode": {
    "name": "ipython",
    "version": 3
   },
   "file_extension": ".py",
   "mimetype": "text/x-python",
   "name": "python",
   "nbconvert_exporter": "python",
   "pygments_lexer": "ipython3",
   "version": "3.11.8"
  }
 },
 "nbformat": 4,
 "nbformat_minor": 2
}
